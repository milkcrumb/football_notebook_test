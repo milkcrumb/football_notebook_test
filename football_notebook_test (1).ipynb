{
 "cells": [
  {
   "cell_type": "code",
   "execution_count": null,
   "id": "939ea5fa",
   "metadata": {},
   "outputs": [],
   "source": [
    "%pwd"
   ]
  },
  {
   "cell_type": "code",
   "execution_count": null,
   "id": "9abb24d4",
   "metadata": {},
   "outputs": [],
   "source": [
    "with open('/home/jovyan/Football/gold_corpus.txt') as a:\n",
    "        gold_text = a.read()"
   ]
  },
  {
   "cell_type": "code",
   "execution_count": null,
   "id": "ab7acf3e",
   "metadata": {},
   "outputs": [],
   "source": [
    "with open('/home/jovyan/Football/pitt_corpus.txt') as b:\n",
    "        pitt_text = b.read()"
   ]
  },
  {
   "cell_type": "code",
   "execution_count": null,
   "id": "41b73440",
   "metadata": {},
   "outputs": [],
   "source": [
    "with open('/home/jovyan/Football/combined_corpus.txt') as c:\n",
    "        combi_text = c.read()"
   ]
  },
  {
   "cell_type": "code",
   "execution_count": null,
   "id": "4b2a3680",
   "metadata": {},
   "outputs": [],
   "source": [
    "def get_num_sents(string):\n",
    "    num_sents = string.count('.') + string.count('!') + string.count('?')\n",
    "    return num_sents"
   ]
  },
  {
   "cell_type": "code",
   "execution_count": null,
   "id": "ea3b5ff0",
   "metadata": {},
   "outputs": [],
   "source": [
    "get_num_sents(pitt_text)"
   ]
  },
  {
   "cell_type": "code",
   "execution_count": null,
   "id": "6b3c17dd",
   "metadata": {},
   "outputs": [],
   "source": [
    "get_num_sents(gold_text)"
   ]
  },
  {
   "cell_type": "code",
   "execution_count": null,
   "id": "05a9b4eb",
   "metadata": {},
   "outputs": [],
   "source": [
    "get_num_sents(combi_text)"
   ]
  },
  {
   "cell_type": "code",
   "execution_count": null,
   "id": "ba0286ea",
   "metadata": {},
   "outputs": [],
   "source": [
    "def Convert(string):\n",
    "    li=list(string.split(\" \"))\n",
    "    return li"
   ]
  },
  {
   "cell_type": "code",
   "execution_count": null,
   "id": "9068cdd2",
   "metadata": {},
   "outputs": [],
   "source": [
    "print(Convert(pitt_text))"
   ]
  },
  {
   "cell_type": "code",
   "execution_count": null,
   "id": "e9e6c713",
   "metadata": {},
   "outputs": [],
   "source": []
  },
  {
   "cell_type": "code",
   "execution_count": null,
   "id": "41b81840",
   "metadata": {},
   "outputs": [],
   "source": []
  }
 ],
 "metadata": {
  "kernelspec": {
   "display_name": "Python 3 (ipykernel)",
   "language": "python",
   "name": "python3"
  },
  "language_info": {
   "codemirror_mode": {
    "name": "ipython",
    "version": 3
   },
   "file_extension": ".py",
   "mimetype": "text/x-python",
   "name": "python",
   "nbconvert_exporter": "python",
   "pygments_lexer": "ipython3",
   "version": "3.7.8"
  }
 },
 "nbformat": 4,
 "nbformat_minor": 5
}
